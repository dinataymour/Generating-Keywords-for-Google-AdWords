{
 "cells": [
  {
   "cell_type": "markdown",
   "id": "e2384aa0",
   "metadata": {},
   "source": [
    "1. The brief\n",
    "Imagine working for a digital marketing agency, and the agency is approached by a massive online retailer of furniture. They want to test our skills at creating large campaigns for all of their website. We are tasked with creating a prototype set of keywords for search campaigns for their sofas section. The client says that they want us to generate keywords for the following products:\n",
    "\n",
    "sofas\n",
    "convertible sofas\n",
    "love seats\n",
    "recliners\n",
    "sofa beds\n",
    "The brief: The client is generally a low-cost retailer, offering many promotions and discounts. We will need to focus on such keywords. We will also need to move away from luxury keywords and topics, as we are targeting price-sensitive customers. Because we are going to be tight on budget, it would be good to focus on a tightly targeted set of keywords and make sure they are all set to exact and phrase match.\n",
    "\n",
    "Based on the brief above we will first need to generate a list of words, that together with the products given above would make for good keywords. Here are some examples:\n",
    "\n",
    "Products: sofas, recliners\n",
    "Words: buy, prices\n",
    "The resulting keywords: 'buy sofas', 'sofas buy', 'buy recliners', 'recliners buy', 'prices sofas', 'sofas prices', 'prices recliners', 'recliners prices'."
   ]
  },
  {
   "cell_type": "code",
   "execution_count": 1,
   "id": "e6cf86b3",
   "metadata": {},
   "outputs": [
    {
     "name": "stdout",
     "output_type": "stream",
     "text": [
      "['buy', 'promotion', 'cheap', 'offer', 'purchase', 'sale']\n"
     ]
    }
   ],
   "source": [
    "words = ['buy', 'promotion', 'cheap', 'offer', 'purchase', 'sale']\n",
    "print(words)"
   ]
  },
  {
   "cell_type": "code",
   "execution_count": 2,
   "id": "fc1131ef",
   "metadata": {},
   "outputs": [
    {
     "name": "stdout",
     "output_type": "stream",
     "text": [
      "['sofas', 'convertible sofas', 'love seats', 'recliners', 'sofa bed']\n"
     ]
    }
   ],
   "source": [
    "products = ['sofas', 'convertible sofas','love seats', 'recliners', 'sofa bed']\n",
    "print(products)"
   ]
  },
  {
   "cell_type": "code",
   "execution_count": 4,
   "id": "358a4f59",
   "metadata": {},
   "outputs": [
    {
     "name": "stdout",
     "output_type": "stream",
     "text": [
      "[['sofas', 'sofas buy'], ['sofas', 'buy sofas'], ['sofas', 'sofas promotion'], ['sofas', 'promotion sofas'], ['sofas', 'sofas cheap'], ['sofas', 'cheap sofas'], ['sofas', 'sofas offer'], ['sofas', 'offer sofas'], ['sofas', 'sofas purchase'], ['sofas', 'purchase sofas'], ['sofas', 'sofas sale'], ['sofas', 'sale sofas'], ['convertible sofas', 'convertible sofas buy'], ['convertible sofas', 'buy convertible sofas'], ['convertible sofas', 'convertible sofas promotion'], ['convertible sofas', 'promotion convertible sofas'], ['convertible sofas', 'convertible sofas cheap'], ['convertible sofas', 'cheap convertible sofas'], ['convertible sofas', 'convertible sofas offer'], ['convertible sofas', 'offer convertible sofas'], ['convertible sofas', 'convertible sofas purchase'], ['convertible sofas', 'purchase convertible sofas'], ['convertible sofas', 'convertible sofas sale'], ['convertible sofas', 'sale convertible sofas'], ['love seats', 'love seats buy'], ['love seats', 'buy love seats'], ['love seats', 'love seats promotion'], ['love seats', 'promotion love seats'], ['love seats', 'love seats cheap'], ['love seats', 'cheap love seats'], ['love seats', 'love seats offer'], ['love seats', 'offer love seats'], ['love seats', 'love seats purchase'], ['love seats', 'purchase love seats'], ['love seats', 'love seats sale'], ['love seats', 'sale love seats'], ['recliners', 'recliners buy'], ['recliners', 'buy recliners'], ['recliners', 'recliners promotion'], ['recliners', 'promotion recliners'], ['recliners', 'recliners cheap'], ['recliners', 'cheap recliners'], ['recliners', 'recliners offer'], ['recliners', 'offer recliners'], ['recliners', 'recliners purchase'], ['recliners', 'purchase recliners'], ['recliners', 'recliners sale'], ['recliners', 'sale recliners'], ['sofa bed', 'sofa bed buy'], ['sofa bed', 'buy sofa bed'], ['sofa bed', 'sofa bed promotion'], ['sofa bed', 'promotion sofa bed'], ['sofa bed', 'sofa bed cheap'], ['sofa bed', 'cheap sofa bed'], ['sofa bed', 'sofa bed offer'], ['sofa bed', 'offer sofa bed'], ['sofa bed', 'sofa bed purchase'], ['sofa bed', 'purchase sofa bed'], ['sofa bed', 'sofa bed sale'], ['sofa bed', 'sale sofa bed']]\n"
     ]
    }
   ],
   "source": [
    "keyword_list = []\n",
    "\n",
    "for product in products:\n",
    "    for word in words:\n",
    "        keyword_list.append([product, product +' '+ word])\n",
    "        keyword_list.append([product, word +' '+ product])\n",
    "        \n",
    "print(keyword_list)"
   ]
  },
  {
   "cell_type": "markdown",
   "id": "f9cf72b5",
   "metadata": {},
   "source": [
    "## Then we will turn this list into a data frame "
   ]
  },
  {
   "cell_type": "code",
   "execution_count": 6,
   "id": "00a47e5e",
   "metadata": {},
   "outputs": [],
   "source": [
    "import pandas as pd"
   ]
  },
  {
   "cell_type": "code",
   "execution_count": 8,
   "id": "9980019b",
   "metadata": {},
   "outputs": [],
   "source": [
    "df_keywords = pd.DataFrame.from_records(keyword_list)"
   ]
  },
  {
   "cell_type": "code",
   "execution_count": 9,
   "id": "8eca5c5c",
   "metadata": {},
   "outputs": [
    {
     "data": {
      "text/html": [
       "<div>\n",
       "<style scoped>\n",
       "    .dataframe tbody tr th:only-of-type {\n",
       "        vertical-align: middle;\n",
       "    }\n",
       "\n",
       "    .dataframe tbody tr th {\n",
       "        vertical-align: top;\n",
       "    }\n",
       "\n",
       "    .dataframe thead th {\n",
       "        text-align: right;\n",
       "    }\n",
       "</style>\n",
       "<table border=\"1\" class=\"dataframe\">\n",
       "  <thead>\n",
       "    <tr style=\"text-align: right;\">\n",
       "      <th></th>\n",
       "      <th>0</th>\n",
       "      <th>1</th>\n",
       "    </tr>\n",
       "  </thead>\n",
       "  <tbody>\n",
       "    <tr>\n",
       "      <th>0</th>\n",
       "      <td>sofas</td>\n",
       "      <td>sofas buy</td>\n",
       "    </tr>\n",
       "    <tr>\n",
       "      <th>1</th>\n",
       "      <td>sofas</td>\n",
       "      <td>buy sofas</td>\n",
       "    </tr>\n",
       "    <tr>\n",
       "      <th>2</th>\n",
       "      <td>sofas</td>\n",
       "      <td>sofas promotion</td>\n",
       "    </tr>\n",
       "    <tr>\n",
       "      <th>3</th>\n",
       "      <td>sofas</td>\n",
       "      <td>promotion sofas</td>\n",
       "    </tr>\n",
       "    <tr>\n",
       "      <th>4</th>\n",
       "      <td>sofas</td>\n",
       "      <td>sofas cheap</td>\n",
       "    </tr>\n",
       "  </tbody>\n",
       "</table>\n",
       "</div>"
      ],
      "text/plain": [
       "       0                1\n",
       "0  sofas        sofas buy\n",
       "1  sofas        buy sofas\n",
       "2  sofas  sofas promotion\n",
       "3  sofas  promotion sofas\n",
       "4  sofas      sofas cheap"
      ]
     },
     "execution_count": 9,
     "metadata": {},
     "output_type": "execute_result"
    }
   ],
   "source": [
    "df_keywords.head()"
   ]
  },
  {
   "cell_type": "markdown",
   "id": "682a4b4f",
   "metadata": {},
   "source": [
    "## Renaming the columns from 0 and 1 to Ad Group and Keyword"
   ]
  },
  {
   "cell_type": "code",
   "execution_count": 10,
   "id": "b546c336",
   "metadata": {},
   "outputs": [],
   "source": [
    "df_keywords. columns = ['Ad Group', 'Keyword']"
   ]
  },
  {
   "cell_type": "code",
   "execution_count": 11,
   "id": "3d68e69b",
   "metadata": {},
   "outputs": [
    {
     "data": {
      "text/html": [
       "<div>\n",
       "<style scoped>\n",
       "    .dataframe tbody tr th:only-of-type {\n",
       "        vertical-align: middle;\n",
       "    }\n",
       "\n",
       "    .dataframe tbody tr th {\n",
       "        vertical-align: top;\n",
       "    }\n",
       "\n",
       "    .dataframe thead th {\n",
       "        text-align: right;\n",
       "    }\n",
       "</style>\n",
       "<table border=\"1\" class=\"dataframe\">\n",
       "  <thead>\n",
       "    <tr style=\"text-align: right;\">\n",
       "      <th></th>\n",
       "      <th>Ad Group</th>\n",
       "      <th>Keyword</th>\n",
       "    </tr>\n",
       "  </thead>\n",
       "  <tbody>\n",
       "    <tr>\n",
       "      <th>0</th>\n",
       "      <td>sofas</td>\n",
       "      <td>sofas buy</td>\n",
       "    </tr>\n",
       "    <tr>\n",
       "      <th>1</th>\n",
       "      <td>sofas</td>\n",
       "      <td>buy sofas</td>\n",
       "    </tr>\n",
       "    <tr>\n",
       "      <th>2</th>\n",
       "      <td>sofas</td>\n",
       "      <td>sofas promotion</td>\n",
       "    </tr>\n",
       "    <tr>\n",
       "      <th>3</th>\n",
       "      <td>sofas</td>\n",
       "      <td>promotion sofas</td>\n",
       "    </tr>\n",
       "    <tr>\n",
       "      <th>4</th>\n",
       "      <td>sofas</td>\n",
       "      <td>sofas cheap</td>\n",
       "    </tr>\n",
       "  </tbody>\n",
       "</table>\n",
       "</div>"
      ],
      "text/plain": [
       "  Ad Group          Keyword\n",
       "0    sofas        sofas buy\n",
       "1    sofas        buy sofas\n",
       "2    sofas  sofas promotion\n",
       "3    sofas  promotion sofas\n",
       "4    sofas      sofas cheap"
      ]
     },
     "execution_count": 11,
     "metadata": {},
     "output_type": "execute_result"
    }
   ],
   "source": [
    "df_keywords.head()"
   ]
  },
  {
   "cell_type": "markdown",
   "id": "34e55693",
   "metadata": {},
   "source": [
    "## Creating a new column 'Campaign' "
   ]
  },
  {
   "cell_type": "code",
   "execution_count": 12,
   "id": "81b9a033",
   "metadata": {},
   "outputs": [],
   "source": [
    "df_keywords['Campaign'] = 'SEM_Sofas'"
   ]
  },
  {
   "cell_type": "markdown",
   "id": "94ff56b6",
   "metadata": {},
   "source": [
    "## Adding a 'Criterion Type' column"
   ]
  },
  {
   "cell_type": "code",
   "execution_count": 13,
   "id": "5d80a0d7",
   "metadata": {},
   "outputs": [],
   "source": [
    "df_keywords['Criterion Type'] = 'Exact'"
   ]
  },
  {
   "cell_type": "code",
   "execution_count": 14,
   "id": "27924ed0",
   "metadata": {},
   "outputs": [
    {
     "data": {
      "text/html": [
       "<div>\n",
       "<style scoped>\n",
       "    .dataframe tbody tr th:only-of-type {\n",
       "        vertical-align: middle;\n",
       "    }\n",
       "\n",
       "    .dataframe tbody tr th {\n",
       "        vertical-align: top;\n",
       "    }\n",
       "\n",
       "    .dataframe thead th {\n",
       "        text-align: right;\n",
       "    }\n",
       "</style>\n",
       "<table border=\"1\" class=\"dataframe\">\n",
       "  <thead>\n",
       "    <tr style=\"text-align: right;\">\n",
       "      <th></th>\n",
       "      <th>Ad Group</th>\n",
       "      <th>Keyword</th>\n",
       "      <th>Campaign</th>\n",
       "      <th>Criterion Type</th>\n",
       "    </tr>\n",
       "  </thead>\n",
       "  <tbody>\n",
       "    <tr>\n",
       "      <th>0</th>\n",
       "      <td>sofas</td>\n",
       "      <td>sofas buy</td>\n",
       "      <td>SEM_Sofas</td>\n",
       "      <td>Exact</td>\n",
       "    </tr>\n",
       "    <tr>\n",
       "      <th>1</th>\n",
       "      <td>sofas</td>\n",
       "      <td>buy sofas</td>\n",
       "      <td>SEM_Sofas</td>\n",
       "      <td>Exact</td>\n",
       "    </tr>\n",
       "    <tr>\n",
       "      <th>2</th>\n",
       "      <td>sofas</td>\n",
       "      <td>sofas promotion</td>\n",
       "      <td>SEM_Sofas</td>\n",
       "      <td>Exact</td>\n",
       "    </tr>\n",
       "    <tr>\n",
       "      <th>3</th>\n",
       "      <td>sofas</td>\n",
       "      <td>promotion sofas</td>\n",
       "      <td>SEM_Sofas</td>\n",
       "      <td>Exact</td>\n",
       "    </tr>\n",
       "    <tr>\n",
       "      <th>4</th>\n",
       "      <td>sofas</td>\n",
       "      <td>sofas cheap</td>\n",
       "      <td>SEM_Sofas</td>\n",
       "      <td>Exact</td>\n",
       "    </tr>\n",
       "  </tbody>\n",
       "</table>\n",
       "</div>"
      ],
      "text/plain": [
       "  Ad Group          Keyword   Campaign Criterion Type\n",
       "0    sofas        sofas buy  SEM_Sofas          Exact\n",
       "1    sofas        buy sofas  SEM_Sofas          Exact\n",
       "2    sofas  sofas promotion  SEM_Sofas          Exact\n",
       "3    sofas  promotion sofas  SEM_Sofas          Exact\n",
       "4    sofas      sofas cheap  SEM_Sofas          Exact"
      ]
     },
     "execution_count": 14,
     "metadata": {},
     "output_type": "execute_result"
    }
   ],
   "source": [
    "df_keywords.head()"
   ]
  },
  {
   "cell_type": "markdown",
   "id": "5c7b798c",
   "metadata": {},
   "source": [
    "The great thing about exact match is that it is very specific, and we can control the process very well. The tradeoff, however, is that:\n",
    "\n",
    "The search volume for exact match is lower than other match types\n",
    "We can't possibly think of all the ways in which people search, and so, we are probably missing out on some high-quality keywords.\n",
    "\n",
    "So it's good to use another match called phrase match as a discovery mechanism to allow our ads to be triggered by keywords that include our exact match keywords, together with anything before (or after) them"
   ]
  },
  {
   "cell_type": "code",
   "execution_count": 19,
   "id": "0a78e37b",
   "metadata": {},
   "outputs": [],
   "source": [
    "keywords_phrase = df_keywords.copy()\n"
   ]
  },
  {
   "cell_type": "code",
   "execution_count": 23,
   "id": "16a35411",
   "metadata": {},
   "outputs": [
    {
     "name": "stderr",
     "output_type": "stream",
     "text": [
      "C:\\Users\\LENOVO\\AppData\\Local\\Temp\\ipykernel_15340\\690182770.py:2: FutureWarning: The frame.append method is deprecated and will be removed from pandas in a future version. Use pandas.concat instead.\n",
      "  keywords_final_df= df_keywords.append(keywords_phrase)\n"
     ]
    }
   ],
   "source": [
    "keywords_phrase['Criterion Type'] = 'Phrase'\n",
    "keywords_final_df= df_keywords.append(keywords_phrase)"
   ]
  },
  {
   "cell_type": "code",
   "execution_count": 25,
   "id": "a23af10b",
   "metadata": {},
   "outputs": [],
   "source": [
    "keywords_final_df.to_csv('keywords.csv', index= False)"
   ]
  },
  {
   "cell_type": "code",
   "execution_count": 30,
   "id": "92cb76c3",
   "metadata": {},
   "outputs": [
    {
     "name": "stdout",
     "output_type": "stream",
     "text": [
      "Ad Group           Criterion Type\n",
      "convertible sofas  Exact             12\n",
      "                   Phrase            12\n",
      "love seats         Exact             12\n",
      "                   Phrase            12\n",
      "recliners          Exact             12\n",
      "                   Phrase            12\n",
      "sofa bed           Exact             12\n",
      "                   Phrase            12\n",
      "sofas              Exact             12\n",
      "                   Phrase            12\n",
      "Name: Keyword, dtype: int64\n"
     ]
    }
   ],
   "source": [
    "summary = keywords_final_df.groupby(['Ad Group', 'Criterion Type'])['Keyword'].count()\n",
    "print(summary)"
   ]
  }
 ],
 "metadata": {
  "kernelspec": {
   "display_name": "Python 3 (ipykernel)",
   "language": "python",
   "name": "python3"
  },
  "language_info": {
   "codemirror_mode": {
    "name": "ipython",
    "version": 3
   },
   "file_extension": ".py",
   "mimetype": "text/x-python",
   "name": "python",
   "nbconvert_exporter": "python",
   "pygments_lexer": "ipython3",
   "version": "3.9.12"
  }
 },
 "nbformat": 4,
 "nbformat_minor": 5
}
